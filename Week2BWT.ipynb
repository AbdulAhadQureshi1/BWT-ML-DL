{
  "nbformat": 4,
  "nbformat_minor": 0,
  "metadata": {
    "colab": {
      "provenance": []
    },
    "kernelspec": {
      "name": "python3",
      "display_name": "Python 3"
    },
    "language_info": {
      "name": "python"
    }
  },
  "cells": [
    {
      "cell_type": "markdown",
      "source": [
        "# Question 1\n",
        "Write a code that will:\n",
        "1. Prompt the user to enter their name, age, email, and favorite number.\n",
        "2. Stores these inputs in a dictionary with appropriate keys.\n",
        "3. Validate the email format (contains \"@\" and \".\").\n",
        "4. Displays a message using these variables, formatted as: \"Hello [name], you are [age] years old, your email is [email], and your favorite number is [favorite number].\""
      ],
      "metadata": {
        "id": "nE0O9wNqtUD0"
      }
    },
    {
      "cell_type": "code",
      "execution_count": 1,
      "metadata": {
        "colab": {
          "base_uri": "https://localhost:8080/"
        },
        "id": "EcL9BfQJtOPN",
        "outputId": "b6d82467-a50b-43e9-9865-9b45a6ec5f06"
      },
      "outputs": [
        {
          "output_type": "stream",
          "name": "stdout",
          "text": [
            "Enter your name: Abdul Ahad\n",
            "Enter your age: 20\n",
            "Enter your email: abdulahad@gmail.com\n",
            "Enter your favorite number: 21\n",
            "Hello Abdul Ahad, you are 20 years old, your email is abdulahad@gmail.com, and your favorite number is 21.\n"
          ]
        }
      ],
      "source": [
        "name = input(\"Enter your name: \")\n",
        "age = input(\"Enter your age: \")\n",
        "email = input(\"Enter your email: \")\n",
        "favorite_number = input(\"Enter your favorite number: \")\n",
        "\n",
        "user_info = {\n",
        "    \"name\": name,\n",
        "    \"age\": age,\n",
        "    \"email\": email,\n",
        "    \"favorite_number\": favorite_number\n",
        "}\n",
        "\n",
        "if \"@\" in email and \".\" in email:\n",
        "    print(f\"Hello {name}, you are {age} years old, your email is {email}, and your favorite number is {favorite_number}.\")\n",
        "else:\n",
        "    print(\"Invalid email format.\")\n"
      ]
    },
    {
      "cell_type": "markdown",
      "source": [
        "# Question 2\n",
        "Write a code for a function `Is_even(number)` that will:\n",
        "1. Takes an integer as an input.\n",
        "2. Returns True if the number is even, otherwise False if the number is odd.\n",
        "3. Print whether the number was even or odd hint: use conditions"
      ],
      "metadata": {
        "id": "PAHfglqjueiI"
      }
    },
    {
      "cell_type": "code",
      "source": [
        "def Is_even(number):\n",
        "    if number % 2 == 0:\n",
        "        return True\n",
        "    else:\n",
        "        return False\n",
        "\n",
        "number = int(input(\"Enter a number: \"))\n",
        "if Is_even(number):\n",
        "    print(f\"{number} is even.\")\n",
        "else:\n",
        "    print(f\"{number} is odd.\")"
      ],
      "metadata": {
        "colab": {
          "base_uri": "https://localhost:8080/"
        },
        "id": "kWhwDwVvt4b4",
        "outputId": "894840aa-ffa1-417c-e1d8-caa1d1d1c572"
      },
      "execution_count": 3,
      "outputs": [
        {
          "output_type": "stream",
          "name": "stdout",
          "text": [
            "Enter a number: 27\n",
            "27 is odd.\n"
          ]
        }
      ]
    },
    {
      "cell_type": "markdown",
      "source": [
        "#Question 3\n",
        "Write a function `convert_temperature(temp, scale)` that:\n",
        "1. Takes a temperature value and a scale (\"C\" for Celsius, \"F\" for Fahrenheit) as inputs.\n",
        "2. Converts the temperature to the other scale.\n",
        "3. Returns the converted temperature.\n",
        "4. Display the converted temperature.\n"
      ],
      "metadata": {
        "id": "nhaWstyMulHg"
      }
    },
    {
      "cell_type": "code",
      "source": [
        "def convert_temperature(temp, scale):\n",
        "    if scale == \"C\":\n",
        "        converted_temp = (temp * 9/5) + 32\n",
        "        return converted_temp\n",
        "    elif scale == \"F\":\n",
        "        converted_temp = (temp - 32) * 5/9\n",
        "        return converted_temp\n",
        "\n",
        "temp = float(input(\"Enter the temperature: \"))\n",
        "scale = input(\"Enter the scale (C/F): \")\n",
        "converted_temp = convert_temperature(temp, scale)\n",
        "\n",
        "if scale == \"C\":\n",
        "    print(f\"{temp}°C is {converted_temp}°F\")\n",
        "elif scale == \"F\":\n",
        "    print(f\"{temp}°F is {converted_temp}°C\")"
      ],
      "metadata": {
        "colab": {
          "base_uri": "https://localhost:8080/"
        },
        "id": "AKxbE8-QuI24",
        "outputId": "0aca64cf-06d6-4c35-91fa-b54340190109"
      },
      "execution_count": 4,
      "outputs": [
        {
          "output_type": "stream",
          "name": "stdout",
          "text": [
            "Enter the temperature: 97.8\n",
            "Enter the scale (C/F): C\n",
            "97.8°C is 208.04°F\n"
          ]
        }
      ]
    },
    {
      "cell_type": "markdown",
      "source": [
        "# Question 4\n",
        "Write a code that will:\n",
        "1. Contains a function `find_max_min(numbers_list)` that takes a list of numbers and returns both the maximum and minimum numbers in the list.\n",
        "2. Prompts the user to enter 5 numbers, stores them in a list, and then uses the `find_max_min` function to find and display the maximum and minimum numbers.\n"
      ],
      "metadata": {
        "id": "I_zekMK4uomu"
      }
    },
    {
      "cell_type": "code",
      "source": [
        "def find_max_min(numbers_list):\n",
        "    max_num = max(numbers_list)\n",
        "    min_num = min(numbers_list)\n",
        "    return max_num, min_num\n",
        "\n",
        "numbers = []\n",
        "for _ in range(5):\n",
        "    number = float(input(\"Enter a number: \"))\n",
        "    numbers.append(number)\n",
        "\n",
        "max_num, min_num = find_max_min(numbers)\n",
        "print(f\"The maximum number is {max_num} and the minimum number is {min_num}.\")\n"
      ],
      "metadata": {
        "colab": {
          "base_uri": "https://localhost:8080/"
        },
        "id": "s1A5MCo7uVVv",
        "outputId": "bc29d394-049e-4eef-baf4-fb3708255960"
      },
      "execution_count": 5,
      "outputs": [
        {
          "output_type": "stream",
          "name": "stdout",
          "text": [
            "Enter a number: 2\n",
            "Enter a number: 3\n",
            "Enter a number: 1\n",
            "Enter a number: 8\n",
            "Enter a number: 20\n",
            "The maximum number is 20.0 and the minimum number is 1.0.\n"
          ]
        }
      ]
    },
    {
      "cell_type": "markdown",
      "source": [
        "# Question 5\n",
        "Write a code that will:\n",
        "1. Prompt the user to enter details of 3 students: name, age, and grade.\n",
        "2. Stores these details in a list of tuples, with each tuple containing the name, age, and grade of a student.\n",
        "3. Convert this list of tuples into a dictionary with the student name as the key and the tuple (age, grade) as the value.\n",
        "4. Displays an appropriate output.\n"
      ],
      "metadata": {
        "id": "2EAb-u0nuwCE"
      }
    },
    {
      "cell_type": "code",
      "source": [
        "students = []\n",
        "\n",
        "for _ in range(3):\n",
        "    name = input(\"Enter student's name: \")\n",
        "    age = input(\"Enter student's age: \")\n",
        "    grade = input(\"Enter student's grade: \")\n",
        "    students.append((name, age, grade))\n",
        "\n",
        "students_dict = {student[0]: (student[1], student[2]) for student in students}\n",
        "print(students_dict)"
      ],
      "metadata": {
        "colab": {
          "base_uri": "https://localhost:8080/"
        },
        "id": "ahEzbonguyEI",
        "outputId": "28df92b6-7392-49e5-e3b4-ed69b0630ce9"
      },
      "execution_count": 6,
      "outputs": [
        {
          "output_type": "stream",
          "name": "stdout",
          "text": [
            "Enter student's name: Jhonny Bravo\n",
            "Enter student's age: 18\n",
            "Enter student's grade: C\n",
            "Enter student's name: Abdul Ahad\n",
            "Enter student's age: 20\n",
            "Enter student's grade: 7\n",
            "Enter student's name: Muhammad\n",
            "Enter student's age: 22\n",
            "Enter student's grade: 10\n",
            "{'Jhonny Bravo': ('18', 'C'), 'Abdul Ahad': ('20', '7'), 'Muhammad': ('22', '10')}\n"
          ]
        }
      ]
    },
    {
      "cell_type": "markdown",
      "source": [
        "# Question 6\n",
        "Write a code for function `update_inventory(inventory_dict, item, quantity)` that will:\n",
        "1. Take a dictionary where keys are item names and values are quantities, an item name, and a quantity to add or remove.\n",
        "2. Updates the inventory by adding or removing the specified quantity (use negative values for removal).\n",
        "3. Ensures that the quantity of any item does not go below zero.\n",
        "4. Returns the updated dictionary.\n",
        "\n",
        "Use this function to\n",
        "1. Initialize an inventory dictionary with at least 5 items.\n",
        "2. Prompt the user to update the inventory by adding or removing quantities of 3 items.\n",
        "3. Display the updated inventory.\n"
      ],
      "metadata": {
        "id": "cAnmKTPvuyiq"
      }
    },
    {
      "cell_type": "code",
      "source": [
        "def update_inventory(inventory_dict, item, quantity):\n",
        "    if item in inventory_dict:\n",
        "        inventory_dict[item] += quantity\n",
        "        if inventory_dict[item] < 0:\n",
        "            inventory_dict[item] = 0\n",
        "    else:\n",
        "        inventory_dict[item] = max(0, quantity)\n",
        "    return inventory_dict\n",
        "\n",
        "inventory = {\n",
        "    \"apples\": 10,\n",
        "    \"bananas\": 5,\n",
        "    \"oranges\": 8,\n",
        "    \"pears\": 3,\n",
        "    \"grapes\": 7\n",
        "}\n",
        "\n",
        "for _ in range(3):\n",
        "    item = input(\"Enter the item to update: \")\n",
        "    quantity = int(input(\"Enter the quantity to add/remove: \"))\n",
        "    inventory = update_inventory(inventory, item, quantity)\n",
        "\n",
        "print(inventory)\n"
      ],
      "metadata": {
        "colab": {
          "base_uri": "https://localhost:8080/"
        },
        "id": "RdOtvEFRu1c7",
        "outputId": "6633ebd2-7f8f-42eb-a087-e91cd540354b"
      },
      "execution_count": 8,
      "outputs": [
        {
          "output_type": "stream",
          "name": "stdout",
          "text": [
            "Enter the item to update: apples\n",
            "Enter the quantity to add/remove: 2\n",
            "Enter the item to update: bananas\n",
            "Enter the quantity to add/remove: 5\n",
            "Enter the item to update: pears\n",
            "Enter the quantity to add/remove: 1\n",
            "{'apples': 12, 'bananas': 10, 'oranges': 8, 'pears': 4, 'grapes': 7}\n"
          ]
        }
      ]
    },
    {
      "cell_type": "code",
      "source": [],
      "metadata": {
        "id": "ro2MSzx8vR30"
      },
      "execution_count": null,
      "outputs": []
    }
  ]
}